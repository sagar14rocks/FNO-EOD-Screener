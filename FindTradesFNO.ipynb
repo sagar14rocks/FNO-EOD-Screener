{
  "nbformat": 4,
  "nbformat_minor": 0,
  "metadata": {
    "colab": {
      "name": "FindTradesFNO.ipynb",
      "provenance": [],
      "mount_file_id": "1I1I-2zKPmIpmTpqOTBqvG-r_ZyKcBV7a",
      "authorship_tag": "ABX9TyNOzV3oRNL4CM0uVdRxPmwq"
    },
    "kernelspec": {
      "name": "python3",
      "display_name": "Python 3"
    },
    "language_info": {
      "name": "python"
    }
  },
  "cells": [
    {
      "cell_type": "code",
      "execution_count": null,
      "metadata": {
        "id": "65w3-yuEgs7_"
      },
      "outputs": [],
      "source": [
        "#@title Mount drive{display-mode: \"form\"}\n",
        "from google.colab import drive\n",
        "drive.mount('/content/drive')"
      ]
    },
    {
      "cell_type": "code",
      "source": [
        "import numpy as np \n",
        "import matplotlib.pyplot as plt \n",
        "import pandas as pd \n",
        "pd.set_option('display.max_columns', None)"
      ],
      "metadata": {
        "id": "CiukguscjIFn"
      },
      "execution_count": 2,
      "outputs": []
    },
    {
      "cell_type": "code",
      "source": [
        "TODAY = \"3feb\"\n",
        "CUTOFFPRICE = 5000\n",
        "FILENAME='/content/drive/MyDrive/bhavcopy/'+TODAY+'.csv' #bhavcopy file name\n",
        "LOTSIZEFILENAME='/content/drive/MyDrive/bhavcopy/lotsize.csv' #bhavcopy file name\n",
        "data = pd.read_csv(FILENAME,skipinitialspace = True, index_col=False)  # , converters={'SYMBOL': str.strip() } \n",
        "lotsize_data = pd.read_csv(LOTSIZEFILENAME,skipinitialspace = True, index_col=False) \n",
        "\n",
        "future_data = data[data[\"INSTRUMENT\"] == \"FUTSTK\"].drop('Unnamed: 15', axis=1)\n",
        "data = data[data[\"CONTRACTS\"] >= 1000].drop('Unnamed: 15', axis=1)\n",
        "data = data[data[\"INSTRUMENT\"] == \"OPTSTK\"]\n",
        "future_data = future_data[[\"SYMBOL\", \"EXPIRY_DT\", \"OPEN\", \"CLOSE\", \"CHG_IN_OI\"]]\n",
        "data[\"SYMBOL\"] = data[\"SYMBOL\"].str.strip()\n",
        "lotsize_data[\"SYMBOL\"] = lotsize_data[\"SYMBOL\"].str.strip()\n",
        "merged_data = pd.merge(data, lotsize_data, left_on='SYMBOL', right_on='SYMBOL', how='left')\n",
        "merged_data[\"PRICE\"] = merged_data[\"CLOSE\"]*merged_data[\"LOTSIZE\"]\n",
        "filtered_data = merged_data[merged_data[\"PRICE\"] <= CUTOFFPRICE]\n",
        "futmerged_data = pd.merge(filtered_data, future_data, left_on=['SYMBOL','EXPIRY_DT'], right_on=['SYMBOL','EXPIRY_DT'], how='left')\n",
        "futmerged_data[\"DISTANCE_PER\"] = (futmerged_data[\"CLOSE_y\"] - futmerged_data[\"STRIKE_PR\"])*100/futmerged_data[\"CLOSE_y\"]\n",
        "futmerged_data[\"FUT_DAY_CHG_PER\"] = (futmerged_data[\"CLOSE_y\"] - futmerged_data[\"OPEN_y\"])*100/futmerged_data[\"OPEN_y\"]\n",
        "futmerged_data.rename(columns = {'CLOSE_y':'FUT_STK', 'CHG_IN_OI_y':'FUT_COI'}, inplace = True)\n",
        "print(futmerged_data[[\"SYMBOL\", \"STRIKE_PR\", \"OPTION_TYP\", \"EXPIRY_DT\", \"PRICE\",\"FUT_STK\", \"OPEN_y\", \"DISTANCE_PER\", \"FUT_COI\", \"FUT_DAY_CHG_PER\"]].to_string())"
      ],
      "metadata": {
        "id": "VM1met2bh_to",
        "colab": {
          "base_uri": "https://localhost:8080/"
        },
        "outputId": "bcca413e-457b-4ad2-9b07-3a84c10269ee"
      },
      "execution_count": 5,
      "outputs": [
        {
          "output_type": "stream",
          "name": "stdout",
          "text": [
            "       SYMBOL  STRIKE_PR OPTION_TYP    EXPIRY_DT    PRICE  FUT_STK   OPEN_y  DISTANCE_PER   FUT_COI  FUT_DAY_CHG_PER\n",
            "0  APOLLOTYRE      250.0         CE  24-Feb-2022  4375.00   225.30   223.75    -10.963160 -150000.0         0.692737\n",
            "1  APOLLOTYRE      200.0         PE  24-Feb-2022  3875.00   225.30   223.75     11.229472 -150000.0         0.692737\n",
            "2  ASIANPAINT     3400.0         CE  24-Feb-2022  3277.50  3205.30  3209.95     -6.074314   -7950.0        -0.144862\n",
            "3  BAJAJ-AUTO     4000.0         CE  24-Feb-2022  2675.00  3620.80  3552.35    -10.472824  -15000.0         1.926893\n",
            "4  BAJFINANCE     8000.0         CE  24-Feb-2022  4093.75  7116.90  7280.00    -12.408492   71750.0        -2.240385\n",
            "5  BAJFINANCE     8500.0         CE  24-Feb-2022  1437.50  7116.90  7280.00    -19.434023   71750.0        -2.240385\n",
            "6  BHARTIARTL      800.0         CE  24-Feb-2022  2422.50   722.50   728.60    -10.726644  198550.0        -0.837222\n",
            "7    CADILAHC      440.0         CE  24-Feb-2022  4895.00   409.35   417.40     -7.487480  235400.0        -1.928606\n",
            "8    CADILAHC      450.0         CE  24-Feb-2022  3630.00   409.35   417.40     -9.930377  235400.0        -1.928606\n",
            "9       DIXON     6000.0         CE  24-Feb-2022   987.50  4523.30  4645.00    -32.646519   20000.0        -2.620022\n"
          ]
        }
      ]
    },
    {
      "cell_type": "code",
      "source": [
        "print(future_data)\n",
        "#futmerged_data = pd.merge(filtered_data, future_data, left_on=['SYMBOL','EXPIRY_DT'], right_on=['SYMBOL','EXPIRY_DT'], how='left')\n",
        "#print(futmerged_data)\n",
        "#print(futmerged_data[[\"SYMBOL\", \"STRIKE_PR\", \"OPTION_TYP\", \"EXPIRY_DT\", \"PRICE\", \"CLOSE\"]].to_string())"
      ],
      "metadata": {
        "id": "eFum21TKj5Qr"
      },
      "execution_count": null,
      "outputs": []
    },
    {
      "cell_type": "code",
      "source": [
        "\n"
      ],
      "metadata": {
        "colab": {
          "base_uri": "https://localhost:8080/"
        },
        "id": "ywUGSEzlsUTW",
        "outputId": "4668c8e2-a3e4-471d-f839-f259e77f9275"
      },
      "execution_count": 34,
      "outputs": [
        {
          "output_type": "stream",
          "name": "stdout",
          "text": [
            "(5696, 16)\n",
            "(904, 16)\n"
          ]
        }
      ]
    }
  ]
}